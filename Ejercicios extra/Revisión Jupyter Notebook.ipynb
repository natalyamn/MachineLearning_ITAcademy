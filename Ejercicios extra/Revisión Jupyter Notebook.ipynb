{
 "cells": [
  {
   "cell_type": "markdown",
   "id": "41e8a3cf-5513-4a9b-88a8-fdb215c09443",
   "metadata": {},
   "source": [
    "# Sprint 0: Instalación y Configuración del Entorno de Trabajo para Machine Learning"
   ]
  },
  {
   "cell_type": "markdown",
   "id": "672abde6-ad95-451c-9726-786bf574be7b",
   "metadata": {},
   "source": [
    "### Ejecuta algunos cálculos sencillos y familiarízate con el lenguaje *Markdown*. "
   ]
  },
  {
   "cell_type": "markdown",
   "id": "816b6db1-4406-4cc6-82b7-68eb58e33bb3",
   "metadata": {},
   "source": [
    "* *Suma*"
   ]
  },
  {
   "cell_type": "code",
   "execution_count": 1,
   "id": "040f093b-0e9e-4fc6-96aa-b8af0c0912af",
   "metadata": {},
   "outputs": [
    {
     "data": {
      "text/plain": [
       "40"
      ]
     },
     "execution_count": 1,
     "metadata": {},
     "output_type": "execute_result"
    }
   ],
   "source": [
    "10 + 5 + 25"
   ]
  },
  {
   "cell_type": "markdown",
   "id": "d0eb086f-d374-4242-81cf-bd8d67b8bc97",
   "metadata": {},
   "source": [
    "* _Resta_"
   ]
  },
  {
   "cell_type": "code",
   "execution_count": 2,
   "id": "0a0d2122-26fe-4b0b-9a51-a0005e9039bc",
   "metadata": {},
   "outputs": [
    {
     "data": {
      "text/plain": [
       "24"
      ]
     },
     "execution_count": 2,
     "metadata": {},
     "output_type": "execute_result"
    }
   ],
   "source": [
    "31 - 7"
   ]
  },
  {
   "cell_type": "markdown",
   "id": "6acb2eea-e619-48c6-9ea6-e5c260710329",
   "metadata": {},
   "source": [
    "* _Multiplicación_"
   ]
  },
  {
   "cell_type": "code",
   "execution_count": 3,
   "id": "fdb28188-878f-454b-93eb-1b6bc5b0214b",
   "metadata": {},
   "outputs": [
    {
     "data": {
      "text/plain": [
       "625.0"
      ]
     },
     "execution_count": 3,
     "metadata": {},
     "output_type": "execute_result"
    }
   ],
   "source": [
    "25 * 25.0"
   ]
  },
  {
   "cell_type": "markdown",
   "id": "35a628d4-62a7-481b-855f-031048d6c442",
   "metadata": {},
   "source": [
    "* *División*"
   ]
  },
  {
   "cell_type": "code",
   "execution_count": 4,
   "id": "bc1b4d55-64ca-471d-8855-803ce2bb2b7d",
   "metadata": {},
   "outputs": [
    {
     "data": {
      "text/plain": [
       "79.92"
      ]
     },
     "execution_count": 4,
     "metadata": {},
     "output_type": "execute_result"
    }
   ],
   "source": [
    "1998 / 25"
   ]
  },
  {
   "cell_type": "markdown",
   "id": "f644845a-99e5-413f-8072-b83581be22b0",
   "metadata": {},
   "source": [
    "* _Potencia_"
   ]
  },
  {
   "cell_type": "code",
   "execution_count": 5,
   "id": "fc1a84c3-eadf-4ca1-b3e7-2bfdae1a5291",
   "metadata": {},
   "outputs": [
    {
     "data": {
      "text/plain": [
       "1024"
      ]
     },
     "execution_count": 5,
     "metadata": {},
     "output_type": "execute_result"
    }
   ],
   "source": [
    "4 ** 5"
   ]
  },
  {
   "cell_type": "markdown",
   "id": "5ac8c5eb-fe85-4c78-a0fb-564878dc3567",
   "metadata": {},
   "source": [
    "Combinación de las diferentes operaciones: (5+3)×(10−2)÷$2^3$"
   ]
  },
  {
   "cell_type": "code",
   "execution_count": 6,
   "id": "8d30c3ed-50b7-4ed3-afad-4e5ac30c65eb",
   "metadata": {},
   "outputs": [
    {
     "data": {
      "text/plain": [
       "8.0"
      ]
     },
     "execution_count": 6,
     "metadata": {},
     "output_type": "execute_result"
    }
   ],
   "source": [
    "(5+3) * (10-2) / 2**3"
   ]
  },
  {
   "cell_type": "markdown",
   "id": "fe3421f1-f3ec-49c8-b23a-5539a1a23b6d",
   "metadata": {},
   "source": [
    "### Prueba de crear títulos, listas, cambiar estilo de letra o añadir imágenes dentro del Notebook. "
   ]
  },
  {
   "cell_type": "markdown",
   "id": "dc1ba9a3-c3e9-48c2-ab5e-7926b4cf85c9",
   "metadata": {},
   "source": [
    "#### Pandas \n",
    "\n",
    "##### Definition \n",
    "> *pandas is a fast, powerful, flexible and easy to use open source data analysis and manipulation tool, built on top of the Python programming language*\n",
    "\n",
    "##### Intro to Pandas \n",
    "\n",
    "1. __What kind of data does pandas handle?__\n",
    "\n",
    "   When working with tabular data, such as data stored in spreadsheets or databases, pandas is the right tool for you.\n",
    "\n",
    "   Pandas will help you to:\n",
    "   * explore\n",
    "   * clean\n",
    "   * process your data\n",
    "     \n",
    "   In pandas, a data table is called a DataFrame.\n",
    "\n",
    "2. __How do I read and write tabular data?__\n",
    "   \n",
    "   pandas supports the integration with many file formats or data sources out of the box (csv, excel, sql, json, parquet,…).\n",
    "\n",
    "   Importing data from each of these data sources is provided by function with the prefix `read_*`.\n",
    "\n",
    "   Similarly, the `to_*` methods are used to store data.\n",
    "   \n",
    "3. __How do I select a subset of a table?__\n",
    "\n",
    "    *Selecting or filtering specific rows and/or columns? Filtering the data on a condition?*\n",
    "\n",
    "   Methods for slicing, selecting, and extracting the data you need are available in pandas.\n",
    "    \n",
    "##### Source \n",
    "\n",
    "To learn more about Pandas, please click on the following picture: \n",
    "\n",
    "[![imagen pandas](https://pandas.pydata.org/docs/_static/pandas.svg)](https://pandas.pydata.org/docs/index.html)\n"
   ]
  }
 ],
 "metadata": {
  "kernelspec": {
   "display_name": "Python 3 (ipykernel)",
   "language": "python",
   "name": "python3"
  },
  "language_info": {
   "codemirror_mode": {
    "name": "ipython",
    "version": 3
   },
   "file_extension": ".py",
   "mimetype": "text/x-python",
   "name": "python",
   "nbconvert_exporter": "python",
   "pygments_lexer": "ipython3",
   "version": "3.12.5"
  }
 },
 "nbformat": 4,
 "nbformat_minor": 5
}
