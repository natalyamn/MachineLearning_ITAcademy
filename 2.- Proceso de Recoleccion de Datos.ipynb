{
 "cells": [
  {
   "cell_type": "markdown",
   "metadata": {},
   "source": [
    "# Proceso de Recolección de Datos para el Proyecto para Identificar los Perfiles de Clientes que se suscriben a los depósitos a plazo"
   ]
  },
  {
   "cell_type": "markdown",
   "metadata": {},
   "source": [
    "## 1. Fuentes\n",
    "**Identificación de Fuentes:**\n",
    "\n",
    "Base de datos CRM interna del banco, que está conectada con otros sistemas internos del departamento de finanzas y márketing. \n",
    "\n",
    "**Descripción de las Fuentes:**\n",
    "\n",
    "El CRM contiene: \n",
    "\n",
    "* Información demográfica de los clientes (ocupación, edad, estudios, etc.), registrada por los empleados del banco utilizando una API que se conecta con el sistema de registro de clientes\n",
    "\n",
    "* Detalles financieros básicos (presencia/ausencia de productos financieros como préstamos o hipoteca, saldo en la cuenta, etc.) que provienen del sistema de finanzas, que se actualizan cuando el cliente contrata un nuevo producto financiero o hay modificaciones en el saldo disponible\n",
    "\n",
    "* Datos de las campañas de márketing (método de contacto, duración, conversión de los clientes), que son registrados automáticamente en el sistema de marketing del banco tras tras las llamadas en las que se ofrecen ofertas"
   ]
  },
  {
   "cell_type": "markdown",
   "metadata": {},
   "source": [
    "## 2. Métodos de Recolección de Datos\n",
    "**Procedimientos y herramientas:**\n",
    "\n",
    "Las actualizaciones de los registros del CRM y los cambios en la salud financiera o los datos de las campañas de márketing se realizan automáticamente mediante integraciones con otros sistemas del banco. \n",
    "\n",
    "Los registros del CRM se exportan de manera programada en formato CSV y se almacenan en el servicio de la nube seguro utilizado por el banco. \n",
    "\n",
    "Los Data Engineers del banco se encargan de supervisar la correcta integración de los sistemas de los diferentes departamentos con el CRM y de garantizar que los registros se exporten sin errores.\n",
    "\n",
    "**Frecuencia de Recolección:**\n",
    "\n",
    "Diariamente\n",
    "\n",
    "**Scripts de Descarga:**\n",
    "\n",
    "```python\n",
    "\n",
    "import libreria_conexion_con_servicio_nube as conn\n",
    "import pandas as pd\n",
    "\n",
    "#definir credenciales del servicio en la nube (usuario, contraseña, etc. ), si es necesario\n",
    "\n",
    "#posibles pasos a seguir\n",
    "file_path = \"__/ruta/del/archivo/archivo.csv\"\n",
    "data = conn.__(file_path, otros_argumentos_necesarios) \n",
    "\n",
    "df = pd.read_csv(data)\n",
    "df.head()\n",
    "\n",
    "```"
   ]
  },
  {
   "cell_type": "markdown",
   "metadata": {},
   "source": [
    "## 3. Formato y Estructura de Datos\n",
    "**Tipos de Datos:**\n",
    "\n",
    "Numéricas: `age`, `balance`, `duration`, `campaign`, `pdays`, `previous`, `day_of_week`\n",
    "\n",
    "Categóricas: `job`, `marital`, `education`, `contact`, `poutcome`, `month`\n",
    "\n",
    "Binarios: `default`, `housing`, `loan`, `y`\n",
    "\n",
    "**Formato de Almacenaje:**\n",
    "\n",
    "Datos tabulares almacenados en archivo CSV."
   ]
  },
  {
   "cell_type": "markdown",
   "metadata": {},
   "source": [
    "## 4. Limitaciones de los Datos\n",
    "\n",
    "* Malentendido y/o confusión en la interpretación de ciertas variables. Por ejemplo:\n",
    "    * `pdays`: -1 significa que el cliente no fue contactado anteriormente\n",
    "    * `duration`: la duración no es conocida antes de la llamada, no es aconsejable utilizarla para modelos predictivos\n",
    "\n",
    "* Algunos datos desactualizados debido a que la información de cada sistema de gestión se actualiza en diferentes momentos en el CRM. Estos problemas de sincronización pueden afectar la toma de decisiones informadas.\n",
    "\n",
    "* Restricción de acceso a datos de otros departamentos que pueden ser interesantes por algún motivo en concreto, ya que están en otro sistema de gestión con acceso exclusivo a los usuarios de ese departamento en particular. \n",
    "\n",
    "* El registro de los datos demográficos de los clientes se realizan manualmente por los empleados del banco, por lo que podrían contener ciertos errores durante la entrada de datos."
   ]
  },
  {
   "cell_type": "markdown",
   "metadata": {},
   "source": [
    "## 5. Consideraciones sobre Datos Sensibles\n",
    "**Tipos de Datos Sensibles:**\n",
    "\n",
    "Información Personal Identificable (PII): no hay\n",
    "\n",
    "Información Financiera Sensible: `default`, `balance`, `housing`, `loan`\n",
    "\n",
    "Datos Comportamentales Sensibles: no hay\n",
    "\n",
    "**Medidas de Protección:**\n",
    "\n",
    "* Cifrado de Datos:\n",
    "\n",
    "    * Utilizar técnicas de cifrado para proteger los datos sensibles. Esto incluye datos almacenados en el CRM, en los sistemas de gestión interna de cada departamento y datos almacenados en la nube.\n",
    "\n",
    "* Acceso Restringido:\n",
    "\n",
    "    * Acceso a datos sensibles restringido exclusivamente al personal autorizado que los necesite para un análisis concreto (por ejemplo, que los analistas de márketing no tengan acceso a algunos datos financieros sensibles).\n",
    "\n",
    "    * Implementar un registro de acceso para monitorear quién accede a los datos sensibles, con el fin de detectar y responder a posibles brechas de seguridad.\n",
    "\n",
    "* Formación del personal:\n",
    "\n",
    "    * Proporcionar capacitación regular al personal sobre la importancia de la protección de datos sensibles, así como sobre las mejores prácticas para manejarlos de manera segura.\n",
    "\n",
    "* Cumplimiento de Regulaciones:\n",
    "\n",
    "    * Asegurar que se cumpla con el Reglamento General de Protección de Datos (GDPR) y otras normativas locales que regulen el tratamiento de datos sensibles."
   ]
  }
 ],
 "metadata": {
  "language_info": {
   "name": "python"
  }
 },
 "nbformat": 4,
 "nbformat_minor": 2
}
